{
 "cells": [
  {
   "cell_type": "markdown",
   "id": "7d72207c",
   "metadata": {},
   "source": [
    "Desafio: Construir um estimador de sinais i1D robusto\n",
    "1- Elaborar uma função para estimar sinais i1D e sua confiança respctiva\n",
    "2- Crie uma análise em escalas piramidal gaussiana para criar um detector robusto\n",
    "3- Derive uma metrica para definir robustez da estimativa\n",
    "4- Explicar res"
   ]
  },
  {
   "cell_type": "code",
   "execution_count": 1,
   "id": "bad7961e",
   "metadata": {},
   "outputs": [],
   "source": [
    "import numpy as np\n",
    "import matplotlib.pyplot as plt\n",
    "import cv2 as cv\n",
    "from skimage.feature import peak_local_max\n",
    "from scipy.signal import convolve2d as conv2"
   ]
  },
  {
   "cell_type": "code",
   "execution_count": 3,
   "id": "12f6aaf2",
   "metadata": {},
   "outputs": [],
   "source": [
    "def estimate_i1d(image):\n",
    "    image = cv.cvtColor(image, cv.COLOR_BGR2GRAY)\n",
    "    # Detecta bordas com Canny\n",
    "    edges = cv.Canny(image, 100, 200)\n",
    "\n",
    "    # Detecta linhas com Hough\n",
    "    lines = cv.HoughLinesP(edges, 1, np.pi/180, 100, minLineLength=100, maxLineGap=10)\n",
    "\n",
    "    # Cria uma cópia da imagem para desenhar as linhas e vetores normais\n",
    "    image_with_lines_and_normals = cv.cvtColor(image, cv.COLOR_GRAY2BGR)\n",
    "\n",
    "    # Para cada linha...\n",
    "    for line in lines:\n",
    "        x1, y1, x2, y2 = line[0]\n",
    "\n",
    "        # Desenha a linha\n",
    "        cv.line(image_with_lines_and_normals, (x1, y1), (x2, y2), (0, 255, 0), 1)\n",
    "\n",
    "        # Calcula o vetor direção da linha\n",
    "        vx, vy = x2 - x1, y2 - y1\n",
    "\n",
    "        # Normaliza o vetor\n",
    "        mag = np.sqrt(vx**2 + vy**2)\n",
    "        vx, vy = vx / mag, vy / mag\n",
    "\n",
    "        # Calcula o vetor normal\n",
    "        nx, ny = -vy, vx\n",
    "\n",
    "        # Calcula o ponto médio da linha\n",
    "        mx, my = (x1 + x2) / 2, (y1 + y2) / 2\n",
    "\n",
    "        # Calcula o ponto final do vetor normal (para fins de plotagem)\n",
    "        nx_end, ny_end = mx + 30*nx, my + 30*ny  # O número 30 determina o comprimento dos vetores normais na plotagem\n",
    "\n",
    "        # Desenha o vetor normal\n",
    "        cv.arrowedLine(image_with_lines_and_normals, (int(mx), int(my)), (int(nx_end), int(ny_end)), (0, 0, 255), 1)\n",
    "\n",
    "    # Mostra a imagem com linhas e vetores normais\n",
    "    plt.imshow(cv.cvtColor(image_with_lines_and_normals, cv.COLOR_BGR2RGB))\n",
    "    plt.show()\n"
   ]
  },
  {
   "cell_type": "code",
   "execution_count": 2,
   "id": "884f6be0",
   "metadata": {},
   "outputs": [],
   "source": [
    "def gaussian_pyramid(image):\n",
    "    i0 = image.copy()\n",
    "    gpi0 = [i0.astype(float)]\n",
    "    i0 = np.array(i0)\n",
    "    kernel_size = 13\n",
    "    (x,y) = np.meshgrid(np.linspace(-1,1,kernel_size), np.linspace(-1,1,kernel_size))\n",
    "    sigma = 1.0\n",
    "    gaussian_blur = np.exp(-(x**2+y**2)/(2*sigma**2))\n",
    "    gaussian_blur = gaussian_blur/np.sum(gaussian_blur)\n",
    "    for i in range(4):\n",
    "        #gaussian filter applied in each color channel\n",
    "        i0r = conv2(i0[:,:,0], gaussian_blur, mode='same')\n",
    "        i0g = conv2(i0[:,:,1], gaussian_blur, mode='same')\n",
    "        i0b = conv2(i0[:,:,2], gaussian_blur, mode='same')\n",
    "        i0 = np.stack((i0r,i0g,i0b), axis=-1)\n",
    "        \n",
    "        #down sampling: resizing\n",
    "        w = int(i0.shape[1]*0.5)\n",
    "        h = int(i0.shape[0]*0.5)\n",
    "        dim = (w,h)\n",
    "        i0 = cv.resize(i0, dim, interpolation = cv.INTER_AREA)\n",
    "        print(i0.shape)\n",
    "        #save to array for further processing\n",
    "        gpi0.append(i0)\n",
    "    \n",
    "        plt.subplot(2,2,i+1)\n",
    "        \n",
    "        plt.imshow(i0/255)\n",
    "        cv.imshow(\"scale\", i0)\n",
    "        cv.waitKey(0)\n",
    "    \n",
    "    cv.destroyAllWindows()\n",
    "    return gpi0"
   ]
  },
  {
   "cell_type": "code",
   "execution_count": null,
   "id": "dbd299d2",
   "metadata": {},
   "outputs": [],
   "source": [
    "def gp_detector(gpi0):\n",
    "    for gpi in gpi0:\n",
    "        estimate_i1d(gpi)\n",
    "    "
   ]
  },
  {
   "cell_type": "code",
   "execution_count": null,
   "id": "ff7a4452",
   "metadata": {},
   "outputs": [],
   "source": []
  },
  {
   "cell_type": "markdown",
   "id": "c330daed",
   "metadata": {},
   "source": [
    "Descreva o procedimento para detecção de cantos de Harris e explique qual é a função da \"Resposta de Haris\" no procedimento\n",
    "\n",
    "O método de detecção de cantos de Harris começa com a definição do tensor de estrutra da imagem. Depois de encontrá-lo, é definida uma janela de análise em que veremos se há ou não há corners nela. É calculada da seguinte forma: det(T) - k(Traço(T))², definindo k como 0.05, temos 3 ranges de valores para a resposta de harris.\n",
    "Se a resposta for pequeno, então não há features de interesse na região\n",
    "Se a resposta for < 0, então há edges na região\n",
    "Se a resposta for grande, então há corner na região"
   ]
  }
 ],
 "metadata": {
  "kernelspec": {
   "display_name": "Python 3 (ipykernel)",
   "language": "python",
   "name": "python3"
  },
  "language_info": {
   "codemirror_mode": {
    "name": "ipython",
    "version": 3
   },
   "file_extension": ".py",
   "mimetype": "text/x-python",
   "name": "python",
   "nbconvert_exporter": "python",
   "pygments_lexer": "ipython3",
   "version": "3.10.6"
  }
 },
 "nbformat": 4,
 "nbformat_minor": 5
}
